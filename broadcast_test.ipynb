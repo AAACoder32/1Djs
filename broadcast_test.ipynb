{
 "cells": [
  {
   "cell_type": "code",
   "execution_count": 54,
   "metadata": {},
   "outputs": [],
   "source": [
    "import numpy as np\n",
    "import itertools"
   ]
  },
  {
   "cell_type": "code",
   "execution_count": 2,
   "metadata": {},
   "outputs": [
    {
     "data": {
      "text/plain": [
       "array([[[2.        , 1.        , 0.6666667 ],\n",
       "        [0.5       , 0.4       , 0.33333334]],\n",
       "\n",
       "       [[0.2857143 , 0.25      , 0.22222222],\n",
       "        [0.2       , 0.18181819, 0.16666667]]], dtype=float32)"
      ]
     },
     "execution_count": 2,
     "metadata": {},
     "output_type": "execute_result"
    }
   ],
   "source": [
    "a = [[[1, 2, 3], [4, 5, 6]], [[7, 8, 9], [10, 11, 12]]]\n",
    "\n",
    "b = [[13, 14, 15], [16, 17, 18]]\n",
    "\n",
    "a = np.array(a, dtype=np.float32)\n",
    "b = np.array([2], dtype=np.float32)\n",
    "c = b/a\n",
    "# c.shape\n",
    "c"
   ]
  },
  {
   "cell_type": "code",
   "execution_count": 3,
   "metadata": {},
   "outputs": [
    {
     "data": {
      "text/plain": [
       "True"
      ]
     },
     "execution_count": 3,
     "metadata": {},
     "output_type": "execute_result"
    }
   ],
   "source": [
    "a = [1,2,3,5,7]\n",
    "b = [5,7]\n",
    "b = a[:-2]+b\n",
    "c = a.copy()\n",
    "c == a"
   ]
  },
  {
   "cell_type": "code",
   "execution_count": 4,
   "metadata": {},
   "outputs": [],
   "source": [
    "def prod(lst):\n",
    "    n_prod = 1\n",
    "    for i in lst:\n",
    "        n_prod *= i\n",
    "    return n_prod"
   ]
  },
  {
   "cell_type": "code",
   "execution_count": 5,
   "metadata": {},
   "outputs": [],
   "source": [
    "def is_broadcastable(shape1, shape2):\n",
    "    max_ndim = max(len(shape1), len(shape2))\n",
    "    shape1 = [1] * (max_ndim - len(shape1)) + shape1\n",
    "    shape2 = [1] * (max_ndim - len(shape2)) + shape2\n",
    "    for dim1, dim2 in zip(shape1, shape2):\n",
    "        if dim1 != dim2 and dim1 != 1 and dim2 != 1:\n",
    "            return False\n",
    "    return True"
   ]
  },
  {
   "cell_type": "code",
   "execution_count": 6,
   "metadata": {},
   "outputs": [],
   "source": [
    "def broadcast_shape(ori_shape, b_shape):\n",
    "    if(not is_broadcastable(ori_shape, b_shape)):\n",
    "        raise ValueError(\"Shape should be broadcastable\")\n",
    "    max_ndim = max(len(ori_shape), len(b_shape))\n",
    "    ori_shape = [1] * (max_ndim - len(ori_shape)) + ori_shape\n",
    "    b_shape = [1] * (max_ndim - len(b_shape)) + b_shape\n",
    "    res_shape = []\n",
    "    for dim1, dim2 in zip(ori_shape, b_shape):\n",
    "        res_shape.append(max(dim1, dim2))\n",
    "    return res_shape"
   ]
  },
  {
   "cell_type": "code",
   "execution_count": 94,
   "metadata": {},
   "outputs": [],
   "source": [
    "def broadcast_array(arr, old_shape, target_shape):\n",
    "    if len(target_shape) < len(old_shape):\n",
    "        raise ValueError(\"ndim of target shape is less than original shape ndim\")\n",
    "\n",
    "    if len(old_shape) < len(target_shape):\n",
    "        extra_dim_n = len(target_shape) - len(old_shape)\n",
    "        for s1, s2 in zip(old_shape, target_shape[extra_dim_n:]):\n",
    "            if (s1 != s2) and s1 != 1:\n",
    "                raise ValueError(\"Invalid target shape\")\n",
    "    else:\n",
    "        for s1, s2 in zip(old_shape, target_shape):\n",
    "            if (s1 != s2) and s1 != 1:\n",
    "                raise ValueError(\"Invalid target shape\")\n",
    "    # To store broadcasted array temprarily\n",
    "    temp_result = []\n",
    "\n",
    "    # Case: when array dim is less than target shape dim\n",
    "    if len(old_shape) < len(target_shape):\n",
    "        extra_dim_n = len(target_shape) - len(old_shape)\n",
    "        old_shape = target_shape[:extra_dim_n] + old_shape\n",
    "        repeat = prod(target_shape[:extra_dim_n])\n",
    "        for _ in range(repeat):\n",
    "            temp_result += arr.copy()\n",
    "\n",
    "    # General case\n",
    "    repeat_axes = []\n",
    "    if len(temp_result) == 0:\n",
    "        result = arr\n",
    "    else:\n",
    "        result = temp_result\n",
    "\n",
    "    for i in range(len(old_shape)):\n",
    "        if target_shape[i] > old_shape[i] and old_shape[i] == 1:\n",
    "            repeat_axes.append(i)\n",
    "            \n",
    "    if len(repeat_axes) == 0:\n",
    "        return result\n",
    " \n",
    "    \n",
    "    # print(strides)\n",
    "    for axis in repeat_axes:\n",
    "        # Calculate strides\n",
    "        strides = [prod(old_shape[i+1:]) for i in range(len(old_shape))]\n",
    "        sub_shape = old_shape[:axis+1]\n",
    "        sub_strides = strides[:axis+1]\n",
    "        print(f\"old_shape:{old_shape}, strides:{strides}\")\n",
    "        print(f\"sub_shape:{sub_shape}, sub_strides:{sub_strides}\")\n",
    "        indices = itertools.product(*[[i for i in range(n)] for n in sub_shape])\n",
    "        temp_result = []\n",
    "        for index in indices:\n",
    "            print(\"index\",index)\n",
    "            start_idx = 0\n",
    "            for n in [index[i]*sub_strides[i] for i in range(len(index))]:\n",
    "                start_idx += n\n",
    "            end_idx = start_idx + sub_strides[-1]\n",
    "            print(f\"start_idx:{start_idx}, end_idx:{end_idx}\")\n",
    "            print(\"resul sliced\",result[start_idx:end_idx])\n",
    "            for _ in range(target_shape[axis]):\n",
    "                temp_result += result[start_idx:end_idx].copy()\n",
    "            print(\"temp:\",temp_result)\n",
    "        old_shape[axis] = target_shape[axis]\n",
    "        result = temp_result\n",
    "        print(\"result\",result)\n",
    "    # print(indices, repeat_axes)\n",
    "    return result"
   ]
  },
  {
   "cell_type": "code",
   "execution_count": 100,
   "metadata": {},
   "outputs": [
    {
     "name": "stdout",
     "output_type": "stream",
     "text": [
      "old_shape:[2, 1, 1, 4], strides:[4, 4, 4, 1]\n",
      "sub_shape:[2, 1], sub_strides:[4, 4]\n",
      "index (0, 0)\n",
      "start_idx:0, end_idx:4\n",
      "resul sliced [1, 2, 3, 4]\n",
      "temp: [1, 2, 3, 4, 1, 2, 3, 4]\n",
      "index (1, 0)\n",
      "start_idx:4, end_idx:8\n",
      "resul sliced [5, 6, 7, 8]\n",
      "temp: [1, 2, 3, 4, 1, 2, 3, 4, 5, 6, 7, 8, 5, 6, 7, 8]\n",
      "result [1, 2, 3, 4, 1, 2, 3, 4, 5, 6, 7, 8, 5, 6, 7, 8]\n",
      "old_shape:[2, 2, 1, 4], strides:[8, 4, 4, 1]\n",
      "sub_shape:[2, 2, 1], sub_strides:[8, 4, 4]\n",
      "index (0, 0, 0)\n",
      "start_idx:0, end_idx:4\n",
      "resul sliced [1, 2, 3, 4]\n",
      "temp: [1, 2, 3, 4, 1, 2, 3, 4]\n",
      "index (0, 1, 0)\n",
      "start_idx:4, end_idx:8\n",
      "resul sliced [1, 2, 3, 4]\n",
      "temp: [1, 2, 3, 4, 1, 2, 3, 4, 1, 2, 3, 4, 1, 2, 3, 4]\n",
      "index (1, 0, 0)\n",
      "start_idx:8, end_idx:12\n",
      "resul sliced [5, 6, 7, 8]\n",
      "temp: [1, 2, 3, 4, 1, 2, 3, 4, 1, 2, 3, 4, 1, 2, 3, 4, 5, 6, 7, 8, 5, 6, 7, 8]\n",
      "index (1, 1, 0)\n",
      "start_idx:12, end_idx:16\n",
      "resul sliced [5, 6, 7, 8]\n",
      "temp: [1, 2, 3, 4, 1, 2, 3, 4, 1, 2, 3, 4, 1, 2, 3, 4, 5, 6, 7, 8, 5, 6, 7, 8, 5, 6, 7, 8, 5, 6, 7, 8]\n",
      "result [1, 2, 3, 4, 1, 2, 3, 4, 1, 2, 3, 4, 1, 2, 3, 4, 5, 6, 7, 8, 5, 6, 7, 8, 5, 6, 7, 8, 5, 6, 7, 8]\n"
     ]
    },
    {
     "data": {
      "text/plain": [
       "array([[[[1, 2, 3, 4],\n",
       "         [1, 2, 3, 4]],\n",
       "\n",
       "        [[1, 2, 3, 4],\n",
       "         [1, 2, 3, 4]]],\n",
       "\n",
       "\n",
       "       [[[5, 6, 7, 8],\n",
       "         [5, 6, 7, 8]],\n",
       "\n",
       "        [[5, 6, 7, 8],\n",
       "         [5, 6, 7, 8]]]])"
      ]
     },
     "execution_count": 100,
     "metadata": {},
     "output_type": "execute_result"
    }
   ],
   "source": [
    "a = [1,2]\n",
    "shape_a = [2,1]\n",
    "target_shape_a = [2,2,2,4]\n",
    "\n",
    "b = [1,2,3,4,5,6,7,8]\n",
    "shape_b = [2,1,1,4]\n",
    "target_shape_b = [2,2,2,4]\n",
    "np.array(broadcast_array(b, shape_b, target_shape_b)).reshape(target_shape_b)\n",
    "# np.array(broadcast_array(b, shape_b, target_shape_b)).reshape(2,2,2,1)\n",
    "# broadcast_shape(shape, target_shape)"
   ]
  },
  {
   "cell_type": "code",
   "execution_count": 109,
   "metadata": {},
   "outputs": [
    {
     "data": {
      "text/plain": [
       "array([[[[1, 2, 3, 4],\n",
       "         [1, 2, 3, 4]],\n",
       "\n",
       "        [[1, 2, 3, 4],\n",
       "         [1, 2, 3, 4]]],\n",
       "\n",
       "\n",
       "       [[[5, 6, 7, 8],\n",
       "         [5, 6, 7, 8]],\n",
       "\n",
       "        [[5, 6, 7, 8],\n",
       "         [5, 6, 7, 8]]]])"
      ]
     },
     "execution_count": 109,
     "metadata": {},
     "output_type": "execute_result"
    }
   ],
   "source": [
    "a = np.array(a).reshape(2,1)\n",
    "b = np.array(b).reshape(2,1,1,4)\n",
    "np.broadcast_to(b, target_shape_b)\n",
    "# a + b "
   ]
  },
  {
   "cell_type": "code",
   "execution_count": 68,
   "metadata": {},
   "outputs": [],
   "source": [
    "def test(a):\n",
    "    return a +5"
   ]
  },
  {
   "cell_type": "code",
   "execution_count": 70,
   "metadata": {},
   "outputs": [
    {
     "data": {
      "text/plain": [
       "(5, 10)"
      ]
     },
     "execution_count": 70,
     "metadata": {},
     "output_type": "execute_result"
    }
   ],
   "source": [
    "b = 5\n",
    "b, test(b)\n"
   ]
  }
 ],
 "metadata": {
  "kernelspec": {
   "display_name": "Python 3",
   "language": "python",
   "name": "python3"
  },
  "language_info": {
   "codemirror_mode": {
    "name": "ipython",
    "version": 3
   },
   "file_extension": ".py",
   "mimetype": "text/x-python",
   "name": "python",
   "nbconvert_exporter": "python",
   "pygments_lexer": "ipython3",
   "version": "3.11.3"
  }
 },
 "nbformat": 4,
 "nbformat_minor": 2
}
